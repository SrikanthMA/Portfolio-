{
  "nbformat": 4,
  "nbformat_minor": 0,
  "metadata": {
    "colab": {
      "provenance": [],
      "authorship_tag": "ABX9TyNhLI6bKP2DlDnErYizhe6S",
      "include_colab_link": true
    },
    "kernelspec": {
      "name": "python3",
      "display_name": "Python 3"
    },
    "language_info": {
      "name": "python"
    }
  },
  "cells": [
    {
      "cell_type": "markdown",
      "metadata": {
        "id": "view-in-github",
        "colab_type": "text"
      },
      "source": [
        "<a href=\"https://colab.research.google.com/github/SrikanthMA/Portfolio-/blob/main/Two_sum.ipynb\" target=\"_parent\"><img src=\"https://colab.research.google.com/assets/colab-badge.svg\" alt=\"Open In Colab\"/></a>"
      ]
    },
    {
      "cell_type": "code",
      "execution_count": null,
      "metadata": {
        "id": "nRZ5qKRlnV4t"
      },
      "outputs": [],
      "source": [
        "# Problem: https://leetcode.com/problems/two-sum/\n",
        "# Author: Srikanth M A\n",
        "\n",
        "def twoSum(nums, target):\n",
        "    seen = {}\n",
        "    for i, num in enumerate(nums):\n",
        "        if target - num in seen:\n",
        "            return [seen[target - num], i]\n",
        "        seen[num] = i\n",
        "\n",
        "print(twoSum([2,7,11,15], 9))\n"
      ]
    }
  ]
}