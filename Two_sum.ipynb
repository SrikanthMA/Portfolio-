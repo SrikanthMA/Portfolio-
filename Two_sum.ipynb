{
  "nbformat": 4,
  "nbformat_minor": 0,
  "metadata": {
    "colab": {
      "provenance": [],
      "authorship_tag": "ABX9TyOlyhm2lOSpHduv6K7eM3DN",
      "include_colab_link": true
    },
    "kernelspec": {
      "name": "python3",
      "display_name": "Python 3"
    },
    "language_info": {
      "name": "python"
    }
  },
  "cells": [
    {
      "cell_type": "markdown",
      "metadata": {
        "id": "view-in-github",
        "colab_type": "text"
      },
      "source": [
        "<a href=\"https://colab.research.google.com/github/SrikanthMA/Portfolio-/blob/main/Two_sum.ipynb\" target=\"_parent\"><img src=\"https://colab.research.google.com/assets/colab-badge.svg\" alt=\"Open In Colab\"/></a>"
      ]
    },
    {
      "cell_type": "code",
      "execution_count": 5,
      "metadata": {
        "colab": {
          "base_uri": "https://localhost:8080/"
        },
        "id": "nRZ5qKRlnV4t",
        "outputId": "b01e36fd-b4c2-46f5-f4f5-b4db948fd8d8"
      },
      "outputs": [
        {
          "output_type": "stream",
          "name": "stdout",
          "text": [
            "[0, 1]\n"
          ]
        }
      ],
      "source": [
        "# Problem: https://leetcode.com/problems/two-sum/\n",
        "# Author: Srikanth M A\n",
        "# Time :20 mins\n",
        "\n",
        "def twoSum(nums, target):\n",
        "    seen = {}\n",
        "    for i, num in enumerate(nums):\n",
        "        if target - num in seen:\n",
        "            return [seen[target - num], i]\n",
        "        seen[num] = i\n",
        "\n",
        "print(twoSum([2,7,11,15], 9))  # Example\n"
      ]
    },
    {
      "cell_type": "code",
      "source": [
        "# The answer to the leetcode question\n",
        "class Solution(object):\n",
        "    def twoSum(self, nums, target):\n",
        "        num_map = {}\n",
        "        for i, num in enumerate(nums):\n",
        "            complement = target - num\n",
        "            if complement in num_map:\n",
        "              return (num_map[complement], i)\n",
        "            num_map[num] = i\n",
        "        return ()"
      ],
      "metadata": {
        "id": "JoX_GKKKo6KK"
      },
      "execution_count": 8,
      "outputs": []
    }
  ]
}